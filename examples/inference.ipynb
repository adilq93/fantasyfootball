{
 "cells": [
  {
   "cell_type": "markdown",
   "metadata": {},
   "source": [
    "# WEEKLY INFERENCE\n",
    "\n",
    "The purpose of this notebook is to run through a real-life example of creating individual player point projections for an upcoming week. Let's start by importing the necessary libraries and loading our historical data."
   ]
  },
  {
   "cell_type": "code",
   "execution_count": 1,
   "metadata": {},
   "outputs": [],
   "source": [
    "import numpy as np\n",
    "import pandas as pd\n",
    "import plotly.express as px\n",
    "from scipy.stats import spearmanr\n",
    "from sklearn.feature_selection import RFE\n",
    "from sklearn.model_selection import GridSearchCV\n",
    "from xgboost import XGBRegressor, plot_importance\n",
    "\n",
    "from fantasyfootball.data import FantasyData\n",
    "from fantasyfootball.features import FantasyFeatures"
   ]
  },
  {
   "cell_type": "code",
   "execution_count": 2,
   "metadata": {},
   "outputs": [
    {
     "name": "stderr",
     "output_type": "stream",
     "text": [
      "Player injury data not available prior to 2016 season\n"
     ]
    }
   ],
   "source": [
    "# read in data for all positions for 2015 - 2021 seasons\n",
    "fantasy_data = FantasyData(season_year_start=2015, season_year_end=2022)"
   ]
  },
  {
   "cell_type": "markdown",
   "metadata": {},
   "source": [
    "Next, we'll take advantage of a critical feature of the **fantasyfootball** package: custom scoring. I've specified the scoring rules for my league below (hosted on [sleeper](https://sleeper.com/), which we will use to create our outcome variable. "
   ]
  },
  {
   "cell_type": "code",
   "execution_count": 3,
   "metadata": {},
   "outputs": [],
   "source": [
    "scoring_source_name = \"sleeper\"\n",
    "custom_scoring_source_rules = {scoring_source_name: {\"scoring_columns\": {\n",
    "                    \"passing_td\": 5,\n",
    "                    \"passing_yds\": 0.04,\n",
    "                    \"passing_int\": -2,\n",
    "                    \"rushing_td\": 6,\n",
    "                    \"rushing_yds\": 0.1,\n",
    "                    \"receiving_rec\": 1,\n",
    "                    \"receiving_td\": 5,\n",
    "                    \"receiving_yds\": 0.1,\n",
    "                    \"fumbles_fmb\": -2,\n",
    "                    \"scoring_2pm\": 4,\n",
    "                    \"punt_returns_td\": 6,\n",
    "                    },\n",
    "                    \"multiplier\": {}\n",
    "                    }}"
   ]
  },
  {
   "cell_type": "markdown",
   "metadata": {},
   "source": [
    "We'll add our newly created scoring source to the existing scoring sources, which currently include Yahoo and Fanduel, and then we will add our outcome variable, `yvar`, to the historical data. "
   ]
  },
  {
   "cell_type": "code",
   "execution_count": 4,
   "metadata": {},
   "outputs": [
    {
     "name": "stdout",
     "output_type": "stream",
     "text": [
      "Added scoring source: sleeper\n"
     ]
    }
   ],
   "source": [
    "fantasy_data.add_scoring_source(scoring_source_rules=custom_scoring_source_rules)         \n",
    "fantasy_data.create_fantasy_points_column(scoring_source=scoring_source_name) \n",
    "fantasy_df = fantasy_data.data   \n",
    "yvar = fantasy_df.columns[-1]"
   ]
  },
  {
   "cell_type": "markdown",
   "metadata": {},
   "source": [
    "The next step is when we'll engineer our features. Let's focus on the wide-receiver position. The first step is removing observations where the player was not active for the game, then eliminating players who played in one or fewer games in the season. "
   ]
  },
  {
   "cell_type": "code",
   "execution_count": 5,
   "metadata": {},
   "outputs": [],
   "source": [
    "features = FantasyFeatures(fantasy_df, position=\"WR\", y=yvar)  \n",
    "features.filter_inactive_games(status_column=\"is_active\")\n",
    "features.filter_n_games_played_by_season(min_games_played=1)"
   ]
  },
  {
   "cell_type": "markdown",
   "metadata": {},
   "source": [
    "Once we've cleaned up our data, we build our feature set for the upcoming (unplayed) week. First, we will create placeholders for our features for the upcoming week. Second, we'll add in some of the most potent predictors of future player performance: lags and moving averages. Below we'll make a 4-week moving average based on the number of points scored during the preceding week, the percentage of offensive snaps played, and the number of receiver targets. We'll also create a one week lag on the number of points scored during the previous week, as well as the number of times the player was targeted."
   ]
  },
  {
   "cell_type": "code",
   "execution_count": 6,
   "metadata": {},
   "outputs": [],
   "source": [
    "features.create_future_week()\n",
    "features.add_moving_avg_feature(n_week_window=4, window_columns=[yvar, 'off_snaps_pct','receiving_tgt'])\n",
    "features.add_lag_feature(n_week_lag=1, lag_columns=[yvar, 'receiving_tgt'])"
   ]
  },
  {
   "cell_type": "markdown",
   "metadata": {},
   "source": [
    "Finally, we'll finish by creating a \"fantasy football signature,\" which returns a dictionary of our engineered features and their names. "
   ]
  },
  {
   "cell_type": "code",
   "execution_count": 7,
   "metadata": {},
   "outputs": [],
   "source": [
    "features_signature_dict = features.create_ff_signature()\n",
    "feature_df = features_signature_dict.get(\"feature_df\")"
   ]
  },
  {
   "cell_type": "markdown",
   "metadata": {},
   "source": [
    "Now that we have our newly created features, we'll split our data into historical and future data. Indeed, while calling the `create_future_week` function, an indicator is added to denote historical data, the data we'll use to train our model, future data, or the data we'll use to create our week-player predictions."
   ]
  },
  {
   "cell_type": "code",
   "execution_count": 8,
   "metadata": {},
   "outputs": [],
   "source": [
    "feature_df = features_signature_dict.get(\"feature_df\")\n",
    "hist_df = feature_df[feature_df[\"is_future_week\"] == 0]\n",
    "future_df = feature_df[feature_df[\"is_future_week\"] == 1]"
   ]
  },
  {
   "cell_type": "markdown",
   "metadata": {},
   "source": [
    "In addition to our derived features, we'll also include several untransformed, raw features that could help us predict how many points a player will score in the upcoming week, including: \n",
    "\n",
    "* `avg_draft_position` - Think of this feature as a \"prior.\" A draft position can be a helpful predictor when it's early in the season, and we don't have a lot of data. However, as the season progresses and we update our prior with new information (e.g., how many points a player has scored in the first four weeks), it becomes less valuable. \n",
    "\n",
    "* `projected_off_pts` - Games with high point projections should yield more fantasy points relative to those with lower projections. \n",
    "\n",
    "* `fanduel_salary` - The higher the salary, the more points a player is expected to score. Salaries are published each week during a season. \n",
    "\n",
    "* `receiving_def_rank` - The higher the rank, the more receiving yards and touchdowns a player is expected to score.\n",
    "\n",
    "We'll specify all of these below to create our full feature set. "
   ]
  },
  {
   "cell_type": "code",
   "execution_count": 9,
   "metadata": {},
   "outputs": [],
   "source": [
    "derived_feature_names = features_signature_dict.get(\"pipeline_feature_names\")\n",
    "raw_feature_names = [\n",
    "    \"avg_draft_position\",\n",
    "    \"projected_off_pts\",\n",
    "    \"fanduel_salary\",\n",
    "    \"receiving_def_rank\",\n",
    "]\n",
    "all_features = derived_feature_names + raw_feature_names "
   ]
  },
  {
   "cell_type": "markdown",
   "metadata": {},
   "source": [
    "### Feature Selection & Hyperparameter Tuning"
   ]
  },
  {
   "cell_type": "markdown",
   "metadata": {},
   "source": [
    "Before making our weekly predictions, we'll do feature selection and hyperparameter optimization. I won't spend too much time on this section, given that the focus here is on the package itself. However, the goal is to (1) select only the most predictive features and (2) select the best combination of hyperparameters for a given feature set. "
   ]
  },
  {
   "cell_type": "code",
   "execution_count": 10,
   "metadata": {},
   "outputs": [],
   "source": [
    "X = hist_df[all_features]\n",
    "X = X.apply(pd.to_numeric, errors='coerce')\n",
    "y = hist_df[yvar]"
   ]
  },
  {
   "cell_type": "code",
   "execution_count": 11,
   "metadata": {},
   "outputs": [
    {
     "name": "stdout",
     "output_type": "stream",
     "text": [
      "Fitting 5 folds for each of 8 candidates, totalling 40 fits\n",
      "Fitting 5 folds for each of 8 candidates, totalling 40 fits\n",
      "Fitting 5 folds for each of 8 candidates, totalling 40 fits\n",
      "Fitting 5 folds for each of 8 candidates, totalling 40 fits\n",
      "Fitting 5 folds for each of 8 candidates, totalling 40 fits\n",
      "Fitting 5 folds for each of 8 candidates, totalling 40 fits\n",
      "Fitting 5 folds for each of 8 candidates, totalling 40 fits\n",
      "Fitting 5 folds for each of 8 candidates, totalling 40 fits\n",
      "Fitting 5 folds for each of 8 candidates, totalling 40 fits\n"
     ]
    }
   ],
   "source": [
    "objective = \"reg:squarederror\"\n",
    "eval_metric = \"rmse\"\n",
    "param_grid = {\n",
    "    \"max_depth\": [3, 4],\n",
    "    \"learning_rate\": [0.01, 0.05],\n",
    "    \"n_estimators\": [100, 500],\n",
    "}\n",
    "n_folds = 5\n",
    "perf_df = pd.DataFrame()\n",
    "n_features = range(1, len(all_features) + 1)\n",
    "for n_feature in n_features:\n",
    "    xgb = XGBRegressor(objective=objective, eval_metric=eval_metric)\n",
    "    rfe = RFE(estimator=xgb, n_features_to_select=n_feature)\n",
    "    rfe.fit(X, y)\n",
    "    # extract indexes of selected features\n",
    "    selected_features = X.columns[rfe.support_]\n",
    "    # create grid\n",
    "    grid_search = GridSearchCV(\n",
    "        XGBRegressor(objective=objective, eval_metric=eval_metric),\n",
    "        param_grid,\n",
    "        verbose=1,\n",
    "        n_jobs=-1,\n",
    "        cv=n_folds,\n",
    "    )\n",
    "    # fit the model\n",
    "    grid_search.fit(X[selected_features], y)\n",
    "    # extract cv performance\n",
    "    cv_results_df = pd.DataFrame(grid_search.cv_results_).query(\"rank_test_score == 1\")\n",
    "    # add the features that were selected\n",
    "    cv_results_df[\"features\"] = selected_features = \", \".join(\n",
    "        selected_features.tolist()\n",
    "    )\n",
    "    cv_results_df[\"n_features\"] = n_feature\n",
    "    cv_results_df = cv_results_df[\n",
    "        [\n",
    "            \"features\",\n",
    "            \"n_features\",\n",
    "            \"param_learning_rate\",\n",
    "            \"param_max_depth\",\n",
    "            \"param_n_estimators\",\n",
    "            \"mean_test_score\",\n",
    "            \"std_test_score\",\n",
    "        ]\n",
    "    ]\n",
    "    perf_df = pd.concat([perf_df, cv_results_df])"
   ]
  },
  {
   "cell_type": "markdown",
   "metadata": {},
   "source": [
    "Now that we have results, we'll filter only to those combinations (features + hyperparameters) that fall within one standard deviation of the best combination. Then, we'll select the simplest model (i.e., the most with the fewest features) that falls within the range. "
   ]
  },
  {
   "cell_type": "code",
   "execution_count": 12,
   "metadata": {},
   "outputs": [],
   "source": [
    "# find the best mean_test_score\n",
    "best_mean_test_score = perf_df[\"mean_test_score\"].max()\n",
    "# find the stardard deviation of the best mean_test_score\n",
    "best_std_test_score = perf_df.query(\"mean_test_score == @best_mean_test_score\")[\n",
    "    \"std_test_score\"\n",
    "].values[0]\n",
    "# create the threshold to filter the best models\n",
    "threshold = best_mean_test_score - best_std_test_score\n",
    "# find simplest solution that is within 1 standard deviation of the best mean_test_score\n",
    "perf_df = perf_df[perf_df[\"mean_test_score\"] > threshold].sort_values(\"mean_test_score\")\n",
    "perf_df = perf_df.reset_index().drop(\"index\", axis=1).round(3)"
   ]
  },
  {
   "cell_type": "code",
   "execution_count": 13,
   "metadata": {},
   "outputs": [
    {
     "data": {
      "text/html": [
       "<div>\n",
       "<style scoped>\n",
       "    .dataframe tbody tr th:only-of-type {\n",
       "        vertical-align: middle;\n",
       "    }\n",
       "\n",
       "    .dataframe tbody tr th {\n",
       "        vertical-align: top;\n",
       "    }\n",
       "\n",
       "    .dataframe thead th {\n",
       "        text-align: right;\n",
       "    }\n",
       "</style>\n",
       "<table border=\"1\" class=\"dataframe\">\n",
       "  <thead>\n",
       "    <tr style=\"text-align: right;\">\n",
       "      <th></th>\n",
       "      <th>features</th>\n",
       "      <th>n_features</th>\n",
       "      <th>param_learning_rate</th>\n",
       "      <th>param_max_depth</th>\n",
       "      <th>param_n_estimators</th>\n",
       "      <th>mean_test_score</th>\n",
       "      <th>std_test_score</th>\n",
       "    </tr>\n",
       "  </thead>\n",
       "  <tbody>\n",
       "    <tr>\n",
       "      <th>0</th>\n",
       "      <td>off_snaps_pct_ma_4, fanduel_salary</td>\n",
       "      <td>2</td>\n",
       "      <td>0.01</td>\n",
       "      <td>3</td>\n",
       "      <td>500</td>\n",
       "      <td>0.378</td>\n",
       "      <td>0.024</td>\n",
       "    </tr>\n",
       "    <tr>\n",
       "      <th>1</th>\n",
       "      <td>off_snaps_pct_ma_4, receiving_tgt_ma_4, fandue...</td>\n",
       "      <td>3</td>\n",
       "      <td>0.05</td>\n",
       "      <td>3</td>\n",
       "      <td>100</td>\n",
       "      <td>0.382</td>\n",
       "      <td>0.025</td>\n",
       "    </tr>\n",
       "    <tr>\n",
       "      <th>2</th>\n",
       "      <td>off_snaps_pct_ma_4, receiving_tgt_ma_4, avg_dr...</td>\n",
       "      <td>4</td>\n",
       "      <td>0.01</td>\n",
       "      <td>4</td>\n",
       "      <td>500</td>\n",
       "      <td>0.384</td>\n",
       "      <td>0.026</td>\n",
       "    </tr>\n",
       "    <tr>\n",
       "      <th>3</th>\n",
       "      <td>off_snaps_pct_ma_4, receiving_tgt_ma_4, ff_pts...</td>\n",
       "      <td>6</td>\n",
       "      <td>0.05</td>\n",
       "      <td>4</td>\n",
       "      <td>100</td>\n",
       "      <td>0.385</td>\n",
       "      <td>0.023</td>\n",
       "    </tr>\n",
       "    <tr>\n",
       "      <th>4</th>\n",
       "      <td>ff_pts_sleeper_ma_4, off_snaps_pct_ma_4, recei...</td>\n",
       "      <td>8</td>\n",
       "      <td>0.01</td>\n",
       "      <td>3</td>\n",
       "      <td>500</td>\n",
       "      <td>0.385</td>\n",
       "      <td>0.026</td>\n",
       "    </tr>\n",
       "    <tr>\n",
       "      <th>5</th>\n",
       "      <td>off_snaps_pct_ma_4, receiving_tgt_ma_4, ff_pts...</td>\n",
       "      <td>5</td>\n",
       "      <td>0.01</td>\n",
       "      <td>3</td>\n",
       "      <td>500</td>\n",
       "      <td>0.385</td>\n",
       "      <td>0.024</td>\n",
       "    </tr>\n",
       "    <tr>\n",
       "      <th>6</th>\n",
       "      <td>ff_pts_sleeper_ma_4, off_snaps_pct_ma_4, recei...</td>\n",
       "      <td>7</td>\n",
       "      <td>0.05</td>\n",
       "      <td>3</td>\n",
       "      <td>100</td>\n",
       "      <td>0.386</td>\n",
       "      <td>0.025</td>\n",
       "    </tr>\n",
       "    <tr>\n",
       "      <th>7</th>\n",
       "      <td>ff_pts_sleeper_ma_4, off_snaps_pct_ma_4, recei...</td>\n",
       "      <td>9</td>\n",
       "      <td>0.05</td>\n",
       "      <td>3</td>\n",
       "      <td>100</td>\n",
       "      <td>0.386</td>\n",
       "      <td>0.025</td>\n",
       "    </tr>\n",
       "  </tbody>\n",
       "</table>\n",
       "</div>"
      ],
      "text/plain": [
       "                                            features  n_features  \\\n",
       "0                 off_snaps_pct_ma_4, fanduel_salary           2   \n",
       "1  off_snaps_pct_ma_4, receiving_tgt_ma_4, fandue...           3   \n",
       "2  off_snaps_pct_ma_4, receiving_tgt_ma_4, avg_dr...           4   \n",
       "3  off_snaps_pct_ma_4, receiving_tgt_ma_4, ff_pts...           6   \n",
       "4  ff_pts_sleeper_ma_4, off_snaps_pct_ma_4, recei...           8   \n",
       "5  off_snaps_pct_ma_4, receiving_tgt_ma_4, ff_pts...           5   \n",
       "6  ff_pts_sleeper_ma_4, off_snaps_pct_ma_4, recei...           7   \n",
       "7  ff_pts_sleeper_ma_4, off_snaps_pct_ma_4, recei...           9   \n",
       "\n",
       "  param_learning_rate param_max_depth param_n_estimators  mean_test_score  \\\n",
       "0                0.01               3                500            0.378   \n",
       "1                0.05               3                100            0.382   \n",
       "2                0.01               4                500            0.384   \n",
       "3                0.05               4                100            0.385   \n",
       "4                0.01               3                500            0.385   \n",
       "5                0.01               3                500            0.385   \n",
       "6                0.05               3                100            0.386   \n",
       "7                0.05               3                100            0.386   \n",
       "\n",
       "   std_test_score  \n",
       "0           0.024  \n",
       "1           0.025  \n",
       "2           0.026  \n",
       "3           0.023  \n",
       "4           0.026  \n",
       "5           0.024  \n",
       "6           0.025  \n",
       "7           0.025  "
      ]
     },
     "execution_count": 13,
     "metadata": {},
     "output_type": "execute_result"
    }
   ],
   "source": [
    "perf_df"
   ]
  },
  {
   "cell_type": "markdown",
   "metadata": {},
   "source": [
    "Based on these results, the model we'll use go-forward has the following characteristics: \n",
    "\n",
    "* Two Features - fanduel salary and the average percent of offensive snaps played over the past four weeks\n",
    "* A learning rate of 0.01 (or how much weight we put on new trees that are added to the model)\n",
    "* A maximum depth of 3 (or the maximum number of splits in a tree)\n",
    "* N estimators of 500 (or the number of trees in the ensemble)\n",
    "\n",
    "Note that these results make intuitive sense: The Fanduel salary likes combines many of the features we've already engineered (e.g., the number of targets, the number of offensive snaps played, and the number of points scored in the previous week), as it directly measures the number of points a player is expected to score. "
   ]
  },
  {
   "cell_type": "code",
   "execution_count": 15,
   "metadata": {},
   "outputs": [],
   "source": [
    "final_features = perf_df[\"features\"].values[0].split(\", \")\n",
    "final_hyperparams = (\n",
    "    perf_df[[\"param_learning_rate\", \"param_max_depth\", \"param_n_estimators\"]]\n",
    "    .values[0]\n",
    "    .tolist()\n",
    ")"
   ]
  },
  {
   "cell_type": "markdown",
   "metadata": {},
   "source": [
    "To further support the notion that we've selected relevant features, I like to plot feature importance against a \"noise\" variable or something we know has no relationship with the outcome variable. "
   ]
  },
  {
   "cell_type": "code",
   "execution_count": 16,
   "metadata": {},
   "outputs": [
    {
     "data": {
      "image/png": "[encoded data removed]",
      "text/plain": [
       "<Figure size 432x288 with 1 Axes>"
      ]
     },
     "metadata": {
      "needs_background": "light"
     },
     "output_type": "display_data"
    }
   ],
   "source": [
    "# create gaussian noise\n",
    "gaussian_noise = np.random.normal(0, 0.1, size=len(X))\n",
    "X[\"gaussian_noise\"] = gaussian_noise\n",
    "# get feature importance from xgboost\n",
    "xgb = XGBRegressor(\n",
    "    objective=objective,\n",
    "    eval_metric=eval_metric,\n",
    "    learning_rate=final_hyperparams[0],\n",
    "    max_depth=final_hyperparams[1],\n",
    "    n_estimators=final_hyperparams[2],\n",
    ")\n",
    "xgb.fit(X[final_features + [\"gaussian_noise\"]], y)\n",
    "# plot feature importance\n",
    "imp_plt = plot_importance(xgb, height=0.8, importance_type=\"gain\", show_values=False)\n",
    "# center the plot\n",
    "imp_plt.figure.subplots_adjust(left=0.3)"
   ]
  },
  {
   "cell_type": "markdown",
   "metadata": {},
   "source": [
    "The last step here is to filter our historical and future dataframes to our two features, re-fit our model, and then make predictions on our yet-to-be-played week "
   ]
  },
  {
   "cell_type": "code",
   "execution_count": 19,
   "metadata": {},
   "outputs": [],
   "source": [
    "%%capture\n",
    "X_hist, y_hist = (\n",
    "    hist_df[final_features + [yvar]]\n",
    "    .apply(pd.to_numeric, errors=\"coerce\")\n",
    "    .get_features_targets(yvar, final_features)\n",
    ")\n",
    "xgb.fit(X_hist, y_hist)"
   ]
  },
  {
   "cell_type": "markdown",
   "metadata": {},
   "source": [
    "### Inference Results"
   ]
  },
  {
   "cell_type": "markdown",
   "metadata": {},
   "source": [
    "Now that we have our predictions, we can compare them to a baseline prediction. In this case, we'll use the player weekly rankings from Sports Illustrated. "
   ]
  },
  {
   "cell_type": "code",
   "execution_count": 20,
   "metadata": {},
   "outputs": [],
   "source": [
    "X_future = future_df[final_features].apply(pd.to_numeric, errors='coerce')\n",
    "y_pred = xgb.predict(X_future)\n",
    "future_df = future_df[['name', 'pid'] + final_features]\n",
    "future_df = future_df.assign(**{f\"{yvar}_pred\": y_pred})\n",
    "future_df = future_df.sort_values(by=f\"{yvar}_pred\", ascending=False)\n",
    "future_df[f\"{yvar}_pred_rank\"] = future_df[f\"{yvar}_pred\"].rank(ascending=False)"
   ]
  },
  {
   "cell_type": "code",
   "execution_count": 21,
   "metadata": {},
   "outputs": [],
   "source": [
    "# read in sports illustrated week 5 wr rankings\n",
    "fname = \"2022-week-5-wr-rankings.csv\"\n",
    "github_url = \"https://raw.githubusercontent.com/thecodeforest/fantasyfootball/inference-example/examples/inference_data\"\n",
    "wk5_wr_rankings_df = pd.read_csv(f\"{github_url}/{fname}\")"
   ]
  },
  {
   "cell_type": "code",
   "execution_count": 22,
   "metadata": {},
   "outputs": [
    {
     "data": {
      "text/html": [
       "<div>\n",
       "<style scoped>\n",
       "    .dataframe tbody tr th:only-of-type {\n",
       "        vertical-align: middle;\n",
       "    }\n",
       "\n",
       "    .dataframe tbody tr th {\n",
       "        vertical-align: top;\n",
       "    }\n",
       "\n",
       "    .dataframe thead th {\n",
       "        text-align: right;\n",
       "    }\n",
       "</style>\n",
       "<table border=\"1\" class=\"dataframe\">\n",
       "  <thead>\n",
       "    <tr style=\"text-align: right;\">\n",
       "      <th></th>\n",
       "      <th>name</th>\n",
       "      <th>team</th>\n",
       "      <th>si_rank</th>\n",
       "    </tr>\n",
       "  </thead>\n",
       "  <tbody>\n",
       "    <tr>\n",
       "      <th>0</th>\n",
       "      <td>Cooper Kupp</td>\n",
       "      <td>LAR</td>\n",
       "      <td>1</td>\n",
       "    </tr>\n",
       "    <tr>\n",
       "      <th>1</th>\n",
       "      <td>Stefon Diggs</td>\n",
       "      <td>BUF</td>\n",
       "      <td>2</td>\n",
       "    </tr>\n",
       "    <tr>\n",
       "      <th>2</th>\n",
       "      <td>Justin Jefferson</td>\n",
       "      <td>MIN</td>\n",
       "      <td>3</td>\n",
       "    </tr>\n",
       "    <tr>\n",
       "      <th>3</th>\n",
       "      <td>Tyreek Hill</td>\n",
       "      <td>MIA</td>\n",
       "      <td>4</td>\n",
       "    </tr>\n",
       "    <tr>\n",
       "      <th>4</th>\n",
       "      <td>Davante Adams</td>\n",
       "      <td>LV</td>\n",
       "      <td>5</td>\n",
       "    </tr>\n",
       "  </tbody>\n",
       "</table>\n",
       "</div>"
      ],
      "text/plain": [
       "               name team  si_rank\n",
       "0       Cooper Kupp  LAR        1\n",
       "1      Stefon Diggs  BUF        2\n",
       "2  Justin Jefferson  MIN        3\n",
       "3       Tyreek Hill  MIA        4\n",
       "4     Davante Adams   LV        5"
      ]
     },
     "execution_count": 22,
     "metadata": {},
     "output_type": "execute_result"
    }
   ],
   "source": [
    "wk5_wr_rankings_df.head()"
   ]
  },
  {
   "cell_type": "markdown",
   "metadata": {},
   "source": [
    "Let's bring both of our datasets together below. "
   ]
  },
  {
   "cell_type": "code",
   "execution_count": 23,
   "metadata": {},
   "outputs": [],
   "source": [
    "rankings_df = pd.merge(future_df, wk5_wr_rankings_df, on=\"name\", how=\"inner\")\n",
    "rankings_df = rankings_df.drop(columns=\"team\")\n",
    "# examine the top 40 players\n",
    "rankings_df = rankings_df.head(40).round(0)"
   ]
  },
  {
   "cell_type": "markdown",
   "metadata": {},
   "source": [
    "The first step is to consider the correlation between the rankings of Fantasy Football and Sports Illustrated (SI). We'll use the Spearman correlation, as it is used to measure the strength of a monotonic relationship between two ordinal variables."
   ]
  },
  {
   "cell_type": "code",
   "execution_count": 24,
   "metadata": {},
   "outputs": [
    {
     "name": "stdout",
     "output_type": "stream",
     "text": [
      "Spearman's R: 0.87 - p-value: 0.0\n"
     ]
    }
   ],
   "source": [
    "spearmen_r, p_value = spearmanr(rankings_df[f\"{yvar}_pred_rank\"], rankings_df[\"si_rank\"])\n",
    "print(f\"Spearman's R: {round(spearmen_r, 2)} - p-value: {round(p_value, 2)}\")"
   ]
  },
  {
   "cell_type": "markdown",
   "metadata": {},
   "source": [
    "Finally, we'll plot the top 40 players from the Fantasy Football package relative to the top players from SI."
   ]
  },
  {
   "cell_type": "code",
   "execution_count": 27,
   "metadata": {},
   "outputs": [],
   "source": [
    "fig = px.scatter(rankings_df, x=f\"{yvar}_pred_rank\", y=\"si_rank\", hover_name=\"name\")\n",
    "fig.update_layout(\n",
    "    title=\"2022 Week 5 WR Rankings\",\n",
    "    xaxis_title=\"Fantasy Football Rank\",\n",
    "    yaxis_title=\"Sports Illustrated Rank\",\n",
    "    font=dict(family=\"Courier New, monospace\", size=12, color=\"black\"),\n",
    ")\n",
    "fig.update_layout(\n",
    "    autosize=True,\n",
    "    width=1000,\n",
    "    height=600,\n",
    ")\n",
    "fig.add_shape(type=\"line\", x0=0, y0=0, x1=50, y1=50, line=dict(color=\"Red\", width=2))\n",
    "for i, row in rankings_df.iterrows():\n",
    "    x_offset = 0.1\n",
    "    y_offset = 0.5\n",
    "    fig.add_annotation(\n",
    "        x=row[f\"{yvar}_pred_rank\"] + x_offset,\n",
    "        y=row[\"si_rank\"] + y_offset,\n",
    "        text=row[\"name\"],\n",
    "        showarrow=False,\n",
    "    )"
   ]
  },
  {
   "cell_type": "code",
   "execution_count": 28,
   "metadata": {},
   "outputs": [
    {
     "data": {
      "application/vnd.plotly.v1+json": {
       "config": {
        "plotlyServerURL": "https://plot.ly"
       },
       "data": [
        {
         "hovertemplate": "<b>%{hovertext}</b><br><br>ff_pts_sleeper_pred_rank=%{x}<br>si_rank=%{y}<extra></extra>",
         "hovertext": [
          "Cooper Kupp",
          "Justin Jefferson",
          "Stefon Diggs",
          "Davante Adams",
          "Tyreek Hill",
          "Ja'Marr Chase",
          "Marquise Brown",
          "A.J. Brown",
          "Jaylen Waddle",
          "Christian Kirk",
          "Mike Evans",
          "CeeDee Lamb",
          "Mike Williams",
          "Michael Pittman Jr.",
          "Chris Olave",
          "D.K. Metcalf",
          "Courtland Sutton",
          "Amari Cooper",
          "Deebo Samuel",
          "Tee Higgins",
          "Brandin Cooks",
          "Tyler Lockett",
          "Diontae Johnson",
          "Adam Thielen",
          "Terry McLaurin",
          "Allen Robinson",
          "Brandon Aiyuk",
          "Chris Godwin",
          "D.J. Moore",
          "DeVante Parker",
          "Mack Hollins",
          "Josh Reynolds",
          "Drake London",
          "Allen Lazard",
          "Tyler Boyd",
          "Corey Davis",
          "Jerry Jeudy",
          "Rashod Bateman",
          "Darnell Mooney",
          "JuJu Smith-Schuster"
         ],
         "legendgroup": "",
         "marker": {
          "color": "#636efa",
          "symbol": "circle"
         },
         "mode": "markers",
         "name": "",
         "orientation": "v",
         "showlegend": false,
         "type": "scatter",
         "x": [
          1,
          2,
          3,
          4,
          5,
          6,
          7,
          8,
          9,
          10,
          11,
          12,
          13,
          14,
          15,
          16,
          17,
          18,
          19,
          21,
          22,
          24,
          25,
          26,
          27,
          29,
          31,
          32,
          33,
          34,
          35,
          37,
          38,
          39,
          40,
          40,
          42,
          43,
          45,
          46
         ],
         "xaxis": "x",
         "y": [
          1,
          3,
          2,
          5,
          4,
          6,
          12,
          8,
          16,
          14,
          9,
          10,
          15,
          19,
          17,
          21,
          13,
          26,
          7,
          11,
          22,
          25,
          24,
          31,
          23,
          51,
          41,
          18,
          38,
          56,
          44,
          30,
          20,
          32,
          48,
          43,
          27,
          36,
          46,
          35
         ],
         "yaxis": "y"
        }
       ],
       "layout": {
        "annotations": [
         {
          "showarrow": false,
          "text": "Cooper Kupp",
          "x": 1.1,
          "y": 1.5
         },
         {
          "showarrow": false,
          "text": "Justin Jefferson",
          "x": 2.1,
          "y": 3.5
         },
         {
          "showarrow": false,
          "text": "Stefon Diggs",
          "x": 3.1,
          "y": 2.5
         },
         {
          "showarrow": false,
          "text": "Davante Adams",
          "x": 4.1,
          "y": 5.5
         },
         {
          "showarrow": false,
          "text": "Tyreek Hill",
          "x": 5.1,
          "y": 4.5
         },
         {
          "showarrow": false,
          "text": "Ja'Marr Chase",
          "x": 6.1,
          "y": 6.5
         },
         {
          "showarrow": false,
          "text": "Marquise Brown",
          "x": 7.1,
          "y": 12.5
         },
         {
          "showarrow": false,
          "text": "A.J. Brown",
          "x": 8.1,
          "y": 8.5
         },
         {
          "showarrow": false,
          "text": "Jaylen Waddle",
          "x": 9.1,
          "y": 16.5
         },
         {
          "showarrow": false,
          "text": "Christian Kirk",
          "x": 10.1,
          "y": 14.5
         },
         {
          "showarrow": false,
          "text": "Mike Evans",
          "x": 11.1,
          "y": 9.5
         },
         {
          "showarrow": false,
          "text": "CeeDee Lamb",
          "x": 12.1,
          "y": 10.5
         },
         {
          "showarrow": false,
          "text": "Mike Williams",
          "x": 13.1,
          "y": 15.5
         },
         {
          "showarrow": false,
          "text": "Michael Pittman Jr.",
          "x": 14.1,
          "y": 19.5
         },
         {
          "showarrow": false,
          "text": "Chris Olave",
          "x": 15.1,
          "y": 17.5
         },
         {
          "showarrow": false,
          "text": "D.K. Metcalf",
          "x": 16.1,
          "y": 21.5
         },
         {
          "showarrow": false,
          "text": "Courtland Sutton",
          "x": 17.1,
          "y": 13.5
         },
         {
          "showarrow": false,
          "text": "Amari Cooper",
          "x": 18.1,
          "y": 26.5
         },
         {
          "showarrow": false,
          "text": "Deebo Samuel",
          "x": 19.1,
          "y": 7.5
         },
         {
          "showarrow": false,
          "text": "Tee Higgins",
          "x": 21.1,
          "y": 11.5
         },
         {
          "showarrow": false,
          "text": "Brandin Cooks",
          "x": 22.1,
          "y": 22.5
         },
         {
          "showarrow": false,
          "text": "Tyler Lockett",
          "x": 24.1,
          "y": 25.5
         },
         {
          "showarrow": false,
          "text": "Diontae Johnson",
          "x": 25.1,
          "y": 24.5
         },
         {
          "showarrow": false,
          "text": "Adam Thielen",
          "x": 26.1,
          "y": 31.5
         },
         {
          "showarrow": false,
          "text": "Terry McLaurin",
          "x": 27.1,
          "y": 23.5
         },
         {
          "showarrow": false,
          "text": "Allen Robinson",
          "x": 29.1,
          "y": 51.5
         },
         {
          "showarrow": false,
          "text": "Brandon Aiyuk",
          "x": 31.1,
          "y": 41.5
         },
         {
          "showarrow": false,
          "text": "Chris Godwin",
          "x": 32.1,
          "y": 18.5
         },
         {
          "showarrow": false,
          "text": "D.J. Moore",
          "x": 33.1,
          "y": 38.5
         },
         {
          "showarrow": false,
          "text": "DeVante Parker",
          "x": 34.1,
          "y": 56.5
         },
         {
          "showarrow": false,
          "text": "Mack Hollins",
          "x": 35.1,
          "y": 44.5
         },
         {
          "showarrow": false,
          "text": "Josh Reynolds",
          "x": 37.1,
          "y": 30.5
         },
         {
          "showarrow": false,
          "text": "Drake London",
          "x": 38.1,
          "y": 20.5
         },
         {
          "showarrow": false,
          "text": "Allen Lazard",
          "x": 39.1,
          "y": 32.5
         },
         {
          "showarrow": false,
          "text": "Tyler Boyd",
          "x": 40.1,
          "y": 48.5
         },
         {
          "showarrow": false,
          "text": "Corey Davis",
          "x": 40.1,
          "y": 43.5
         },
         {
          "showarrow": false,
          "text": "Jerry Jeudy",
          "x": 42.1,
          "y": 27.5
         },
         {
          "showarrow": false,
          "text": "Rashod Bateman",
          "x": 43.1,
          "y": 36.5
         },
         {
          "showarrow": false,
          "text": "Darnell Mooney",
          "x": 45.1,
          "y": 46.5
         },
         {
          "showarrow": false,
          "text": "JuJu Smith-Schuster",
          "x": 46.1,
          "y": 35.5
         }
        ],
        "autosize": true,
        "font": {
         "color": "black",
         "family": "Courier New, monospace",
         "size": 12
        },
        "height": 600,
        "legend": {
         "tracegroupgap": 0
        },
        "margin": {
         "t": 60
        },
        "shapes": [
         {
          "line": {
           "color": "Red",
           "width": 2
          },
          "type": "line",
          "x0": 0,
          "x1": 50,
          "y0": 0,
          "y1": 50
         }
        ],
        "template": {
         "data": {
          "bar": [
           {
            "error_x": {
             "color": "#2a3f5f"
            },
            "error_y": {
             "color": "#2a3f5f"
            },
            "marker": {
             "line": {
              "color": "#E5ECF6",
              "width": 0.5
             },
             "pattern": {
              "fillmode": "overlay",
              "size": 10,
              "solidity": 0.2
             }
            },
            "type": "bar"
           }
          ],
          "barpolar": [
           {
            "marker": {
             "line": {
              "color": "#E5ECF6",
              "width": 0.5
             },
             "pattern": {
              "fillmode": "overlay",
              "size": 10,
              "solidity": 0.2
             }
            },
            "type": "barpolar"
           }
          ],
          "carpet": [
           {
            "aaxis": {
             "endlinecolor": "#2a3f5f",
             "gridcolor": "white",
             "linecolor": "white",
             "minorgridcolor": "white",
             "startlinecolor": "#2a3f5f"
            },
            "baxis": {
             "endlinecolor": "#2a3f5f",
             "gridcolor": "white",
             "linecolor": "white",
             "minorgridcolor": "white",
             "startlinecolor": "#2a3f5f"
            },
            "type": "carpet"
           }
          ],
          "choropleth": [
           {
            "colorbar": {
             "outlinewidth": 0,
             "ticks": ""
            },
            "type": "choropleth"
           }
          ],
          "contour": [
           {
            "colorbar": {
             "outlinewidth": 0,
             "ticks": ""
            },
            "colorscale": [
             [
              0,
              "#0d0887"
             ],
             [
              0.1111111111111111,
              "#46039f"
             ],
             [
              0.2222222222222222,
              "#7201a8"
             ],
             [
              0.3333333333333333,
              "#9c179e"
             ],
             [
              0.4444444444444444,
              "#bd3786"
             ],
             [
              0.5555555555555556,
              "#d8576b"
             ],
             [
              0.6666666666666666,
              "#ed7953"
             ],
             [
              0.7777777777777778,
              "#fb9f3a"
             ],
             [
              0.8888888888888888,
              "#fdca26"
             ],
             [
              1,
              "#f0f921"
             ]
            ],
            "type": "contour"
           }
          ],
          "contourcarpet": [
           {
            "colorbar": {
             "outlinewidth": 0,
             "ticks": ""
            },
            "type": "contourcarpet"
           }
          ],
          "heatmap": [
           {
            "colorbar": {
             "outlinewidth": 0,
             "ticks": ""
            },
            "colorscale": [
             [
              0,
              "#0d0887"
             ],
             [
              0.1111111111111111,
              "#46039f"
             ],
             [
              0.2222222222222222,
              "#7201a8"
             ],
             [
              0.3333333333333333,
              "#9c179e"
             ],
             [
              0.4444444444444444,
              "#bd3786"
             ],
             [
              0.5555555555555556,
              "#d8576b"
             ],
             [
              0.6666666666666666,
              "#ed7953"
             ],
             [
              0.7777777777777778,
              "#fb9f3a"
             ],
             [
              0.8888888888888888,
              "#fdca26"
             ],
             [
              1,
              "#f0f921"
             ]
            ],
            "type": "heatmap"
           }
          ],
          "heatmapgl": [
           {
            "colorbar": {
             "outlinewidth": 0,
             "ticks": ""
            },
            "colorscale": [
             [
              0,
              "#0d0887"
             ],
             [
              0.1111111111111111,
              "#46039f"
             ],
             [
              0.2222222222222222,
              "#7201a8"
             ],
             [
              0.3333333333333333,
              "#9c179e"
             ],
             [
              0.4444444444444444,
              "#bd3786"
             ],
             [
              0.5555555555555556,
              "#d8576b"
             ],
             [
              0.6666666666666666,
              "#ed7953"
             ],
             [
              0.7777777777777778,
              "#fb9f3a"
             ],
             [
              0.8888888888888888,
              "#fdca26"
             ],
             [
              1,
              "#f0f921"
             ]
            ],
            "type": "heatmapgl"
           }
          ],
          "histogram": [
           {
            "marker": {
             "pattern": {
              "fillmode": "overlay",
              "size": 10,
              "solidity": 0.2
             }
            },
            "type": "histogram"
           }
          ],
          "histogram2d": [
           {
            "colorbar": {
             "outlinewidth": 0,
             "ticks": ""
            },
            "colorscale": [
             [
              0,
              "#0d0887"
             ],
             [
              0.1111111111111111,
              "#46039f"
             ],
             [
              0.2222222222222222,
              "#7201a8"
             ],
             [
              0.3333333333333333,
              "#9c179e"
             ],
             [
              0.4444444444444444,
              "#bd3786"
             ],
             [
              0.5555555555555556,
              "#d8576b"
             ],
             [
              0.6666666666666666,
              "#ed7953"
             ],
             [
              0.7777777777777778,
              "#fb9f3a"
             ],
             [
              0.8888888888888888,
              "#fdca26"
             ],
             [
              1,
              "#f0f921"
             ]
            ],
            "type": "histogram2d"
           }
          ],
          "histogram2dcontour": [
           {
            "colorbar": {
             "outlinewidth": 0,
             "ticks": ""
            },
            "colorscale": [
             [
              0,
              "#0d0887"
             ],
             [
              0.1111111111111111,
              "#46039f"
             ],
             [
              0.2222222222222222,
              "#7201a8"
             ],
             [
              0.3333333333333333,
              "#9c179e"
             ],
             [
              0.4444444444444444,
              "#bd3786"
             ],
             [
              0.5555555555555556,
              "#d8576b"
             ],
             [
              0.6666666666666666,
              "#ed7953"
             ],
             [
              0.7777777777777778,
              "#fb9f3a"
             ],
             [
              0.8888888888888888,
              "#fdca26"
             ],
             [
              1,
              "#f0f921"
             ]
            ],
            "type": "histogram2dcontour"
           }
          ],
          "mesh3d": [
           {
            "colorbar": {
             "outlinewidth": 0,
             "ticks": ""
            },
            "type": "mesh3d"
           }
          ],
          "parcoords": [
           {
            "line": {
             "colorbar": {
              "outlinewidth": 0,
              "ticks": ""
             }
            },
            "type": "parcoords"
           }
          ],
          "pie": [
           {
            "automargin": true,
            "type": "pie"
           }
          ],
          "scatter": [
           {
            "marker": {
             "colorbar": {
              "outlinewidth": 0,
              "ticks": ""
             }
            },
            "type": "scatter"
           }
          ],
          "scatter3d": [
           {
            "line": {
             "colorbar": {
              "outlinewidth": 0,
              "ticks": ""
             }
            },
            "marker": {
             "colorbar": {
              "outlinewidth": 0,
              "ticks": ""
             }
            },
            "type": "scatter3d"
           }
          ],
          "scattercarpet": [
           {
            "marker": {
             "colorbar": {
              "outlinewidth": 0,
              "ticks": ""
             }
            },
            "type": "scattercarpet"
           }
          ],
          "scattergeo": [
           {
            "marker": {
             "colorbar": {
              "outlinewidth": 0,
              "ticks": ""
             }
            },
            "type": "scattergeo"
           }
          ],
          "scattergl": [
           {
            "marker": {
             "colorbar": {
              "outlinewidth": 0,
              "ticks": ""
             }
            },
            "type": "scattergl"
           }
          ],
          "scattermapbox": [
           {
            "marker": {
             "colorbar": {
              "outlinewidth": 0,
              "ticks": ""
             }
            },
            "type": "scattermapbox"
           }
          ],
          "scatterpolar": [
           {
            "marker": {
             "colorbar": {
              "outlinewidth": 0,
              "ticks": ""
             }
            },
            "type": "scatterpolar"
           }
          ],
          "scatterpolargl": [
           {
            "marker": {
             "colorbar": {
              "outlinewidth": 0,
              "ticks": ""
             }
            },
            "type": "scatterpolargl"
           }
          ],
          "scatterternary": [
           {
            "marker": {
             "colorbar": {
              "outlinewidth": 0,
              "ticks": ""
             }
            },
            "type": "scatterternary"
           }
          ],
          "surface": [
           {
            "colorbar": {
             "outlinewidth": 0,
             "ticks": ""
            },
            "colorscale": [
             [
              0,
              "#0d0887"
             ],
             [
              0.1111111111111111,
              "#46039f"
             ],
             [
              0.2222222222222222,
              "#7201a8"
             ],
             [
              0.3333333333333333,
              "#9c179e"
             ],
             [
              0.4444444444444444,
              "#bd3786"
             ],
             [
              0.5555555555555556,
              "#d8576b"
             ],
             [
              0.6666666666666666,
              "#ed7953"
             ],
             [
              0.7777777777777778,
              "#fb9f3a"
             ],
             [
              0.8888888888888888,
              "#fdca26"
             ],
             [
              1,
              "#f0f921"
             ]
            ],
            "type": "surface"
           }
          ],
          "table": [
           {
            "cells": {
             "fill": {
              "color": "#EBF0F8"
             },
             "line": {
              "color": "white"
             }
            },
            "header": {
             "fill": {
              "color": "#C8D4E3"
             },
             "line": {
              "color": "white"
             }
            },
            "type": "table"
           }
          ]
         },
         "layout": {
          "annotationdefaults": {
           "arrowcolor": "#2a3f5f",
           "arrowhead": 0,
           "arrowwidth": 1
          },
          "autotypenumbers": "strict",
          "coloraxis": {
           "colorbar": {
            "outlinewidth": 0,
            "ticks": ""
           }
          },
          "colorscale": {
           "diverging": [
            [
             0,
             "#8e0152"
            ],
            [
             0.1,
             "#c51b7d"
            ],
            [
             0.2,
             "#de77ae"
            ],
            [
             0.3,
             "#f1b6da"
            ],
            [
             0.4,
             "#fde0ef"
            ],
            [
             0.5,
             "#f7f7f7"
            ],
            [
             0.6,
             "#e6f5d0"
            ],
            [
             0.7,
             "#b8e186"
            ],
            [
             0.8,
             "#7fbc41"
            ],
            [
             0.9,
             "#4d9221"
            ],
            [
             1,
             "#276419"
            ]
           ],
           "sequential": [
            [
             0,
             "#0d0887"
            ],
            [
             0.1111111111111111,
             "#46039f"
            ],
            [
             0.2222222222222222,
             "#7201a8"
            ],
            [
             0.3333333333333333,
             "#9c179e"
            ],
            [
             0.4444444444444444,
             "#bd3786"
            ],
            [
             0.5555555555555556,
             "#d8576b"
            ],
            [
             0.6666666666666666,
             "#ed7953"
            ],
            [
             0.7777777777777778,
             "#fb9f3a"
            ],
            [
             0.8888888888888888,
             "#fdca26"
            ],
            [
             1,
             "#f0f921"
            ]
           ],
           "sequentialminus": [
            [
             0,
             "#0d0887"
            ],
            [
             0.1111111111111111,
             "#46039f"
            ],
            [
             0.2222222222222222,
             "#7201a8"
            ],
            [
             0.3333333333333333,
             "#9c179e"
            ],
            [
             0.4444444444444444,
             "#bd3786"
            ],
            [
             0.5555555555555556,
             "#d8576b"
            ],
            [
             0.6666666666666666,
             "#ed7953"
            ],
            [
             0.7777777777777778,
             "#fb9f3a"
            ],
            [
             0.8888888888888888,
             "#fdca26"
            ],
            [
             1,
             "#f0f921"
            ]
           ]
          },
          "colorway": [
           "#636efa",
           "#EF553B",
           "#00cc96",
           "#ab63fa",
           "#FFA15A",
           "#19d3f3",
           "#FF6692",
           "#B6E880",
           "#FF97FF",
           "#FECB52"
          ],
          "font": {
           "color": "#2a3f5f"
          },
          "geo": {
           "bgcolor": "white",
           "lakecolor": "white",
           "landcolor": "#E5ECF6",
           "showlakes": true,
           "showland": true,
           "subunitcolor": "white"
          },
          "hoverlabel": {
           "align": "left"
          },
          "hovermode": "closest",
          "mapbox": {
           "style": "light"
          },
          "paper_bgcolor": "white",
          "plot_bgcolor": "#E5ECF6",
          "polar": {
           "angularaxis": {
            "gridcolor": "white",
            "linecolor": "white",
            "ticks": ""
           },
           "bgcolor": "#E5ECF6",
           "radialaxis": {
            "gridcolor": "white",
            "linecolor": "white",
            "ticks": ""
           }
          },
          "scene": {
           "xaxis": {
            "backgroundcolor": "#E5ECF6",
            "gridcolor": "white",
            "gridwidth": 2,
            "linecolor": "white",
            "showbackground": true,
            "ticks": "",
            "zerolinecolor": "white"
           },
           "yaxis": {
            "backgroundcolor": "#E5ECF6",
            "gridcolor": "white",
            "gridwidth": 2,
            "linecolor": "white",
            "showbackground": true,
            "ticks": "",
            "zerolinecolor": "white"
           },
           "zaxis": {
            "backgroundcolor": "#E5ECF6",
            "gridcolor": "white",
            "gridwidth": 2,
            "linecolor": "white",
            "showbackground": true,
            "ticks": "",
            "zerolinecolor": "white"
           }
          },
          "shapedefaults": {
           "line": {
            "color": "#2a3f5f"
           }
          },
          "ternary": {
           "aaxis": {
            "gridcolor": "white",
            "linecolor": "white",
            "ticks": ""
           },
           "baxis": {
            "gridcolor": "white",
            "linecolor": "white",
            "ticks": ""
           },
           "bgcolor": "#E5ECF6",
           "caxis": {
            "gridcolor": "white",
            "linecolor": "white",
            "ticks": ""
           }
          },
          "title": {
           "x": 0.05
          },
          "xaxis": {
           "automargin": true,
           "gridcolor": "white",
           "linecolor": "white",
           "ticks": "",
           "title": {
            "standoff": 15
           },
           "zerolinecolor": "white",
           "zerolinewidth": 2
          },
          "yaxis": {
           "automargin": true,
           "gridcolor": "white",
           "linecolor": "white",
           "ticks": "",
           "title": {
            "standoff": 15
           },
           "zerolinecolor": "white",
           "zerolinewidth": 2
          }
         }
        },
        "title": {
         "text": "2022 Week 5 WR Rankings"
        },
        "width": 1000,
        "xaxis": {
         "anchor": "y",
         "domain": [
          0,
          1
         ],
         "title": {
          "text": "Fantasy Football Rank"
         }
        },
        "yaxis": {
         "anchor": "x",
         "domain": [
          0,
          1
         ],
         "title": {
          "text": "Sports Illustrated Rank"
         }
        }
       }
      }
     },
     "metadata": {},
     "output_type": "display_data"
    }
   ],
   "source": [
    "fig.show()"
   ]
  },
  {
   "cell_type": "markdown",
   "metadata": {},
   "source": [
    "It's encouraging to see that the Fantasy Fooball rankings track closely to the SI rankings. However, there are some notable differences. For example, the Fantasy Football package ranks the following players higher than SI:\n",
    "* Amari Cooper\n",
    "* Allen Robinson\n",
    "* Devante Parker\n",
    "\n",
    "While SI ranks the following players higher than Fantasy Football:\n",
    "* Deebo Samuel\n",
    "* Chris Godwin\n",
    "* Drake London\n",
    "\n",
    "We'll have to wait and see how these players perform in the upcoming week to see who was right! Stay tuned for more!"
   ]
  }
 ],
 "metadata": {
  "kernelspec": {
   "display_name": "Python 3.9.7 ('fantasyfootball')",
   "language": "python",
   "name": "python3"
  },
  "language_info": {
   "codemirror_mode": {
    "name": "ipython",
    "version": 3
   },
   "file_extension": ".py",
   "mimetype": "text/x-python",
   "name": "python",
   "nbconvert_exporter": "python",
   "pygments_lexer": "ipython3",
   "version": "3.9.7"
  },
  "orig_nbformat": 4,
  "vscode": {
   "interpreter": {
    "hash": "d7e92fb1a5c8cd3baa17e662512fd0a626995393ab206a2cc39f2a80901fa135"
   }
  }
 },
 "nbformat": 4,
 "nbformat_minor": 2
}
